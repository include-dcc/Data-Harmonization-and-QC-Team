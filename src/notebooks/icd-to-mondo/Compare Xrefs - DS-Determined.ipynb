{
 "cells": [
  {
   "cell_type": "markdown",
   "id": "2202c344",
   "metadata": {},
   "source": [
    "# Compare Xrefs - DS-Determined\n",
    "\n",
    "This notebook is to find mappings in Mondo that correspond to the ICD9 and ICD10 code in the file `CDM_extracted_ICD_codes.csv` from https://www.synapse.org/Synapse:syn63923531.\n",
    "\n",
    "The overall process is to first extract the xrefs from the ontologies using SPARQL queries and then find the matches. The SPARQL query can be run using the [ROBOT `query`](https://robot.obolibrary.org/query) command. ROBOT can be installed following these [instructions](https://robot.obolibrary.org/).\n",
    "\n",
    "The Python data analysis library `pandas` will be used to find the mappings between the xrefs in each ontology. Pandas can be installed following the instructions [here](https://pandas.pydata.org/docs/getting_started/install.html).\n"
   ]
  },
  {
   "cell_type": "markdown",
   "id": "b8305350",
   "metadata": {},
   "source": [
    "## Prerequisites\n",
    "\n",
    "A Python environment, pyenv or conda, that contains:\n",
    "- pandas\n",
    "- ROBOT\n",
    "\n",
    "See installation instructions above."
   ]
  },
  {
   "cell_type": "markdown",
   "id": "522a853b",
   "metadata": {},
   "source": [
    "## Imports and Data Preparation"
   ]
  },
  {
   "cell_type": "code",
   "execution_count": 1,
   "id": "c9d3c555",
   "metadata": {},
   "outputs": [],
   "source": [
    "# Imports \n",
    "import pandas as pd\n",
    "\n",
    "pd.set_option('display.max_colwidth', None)"
   ]
  },
  {
   "cell_type": "code",
   "execution_count": 2,
   "id": "b7e4192a",
   "metadata": {},
   "outputs": [],
   "source": [
    "# Get release version of mondo.owl. See https://github.com/monarch-initiative/mondo/tags for all Mondo release tags\n",
    "\n",
    "# Comment out to prevent re-running this step while actively developing the notebook.\n",
    "#!wget https://github.com/monarch-initiative/mondo/releases/download/v2025-05-06/mondo.owl -O data/v2025-05-06_mondo.owl\n"
   ]
  },
  {
   "cell_type": "code",
   "execution_count": 3,
   "id": "38bbbe99",
   "metadata": {},
   "outputs": [],
   "source": [
    "# Run query to get Mondo Xrefs for sources of interest\n",
    "\n",
    "# Comment out to prevent re-running this step while actively developing the notebook.\n",
    "#!robot query --input data/v2025-05-06_mondo.owl --use-graphs true -f tsv --query sparql/extract_mondo_xrefs.sparql reports/mondo_xrefs.tsv\n"
   ]
  },
  {
   "cell_type": "code",
   "execution_count": 4,
   "id": "f00bbb08",
   "metadata": {},
   "outputs": [
    {
     "data": {
      "text/html": [
       "<div>\n",
       "<style scoped>\n",
       "    .dataframe tbody tr th:only-of-type {\n",
       "        vertical-align: middle;\n",
       "    }\n",
       "\n",
       "    .dataframe tbody tr th {\n",
       "        vertical-align: top;\n",
       "    }\n",
       "\n",
       "    .dataframe thead th {\n",
       "        text-align: right;\n",
       "    }\n",
       "</style>\n",
       "<table border=\"1\" class=\"dataframe\">\n",
       "  <thead>\n",
       "    <tr style=\"text-align: right;\">\n",
       "      <th></th>\n",
       "      <th>?mondo_curie</th>\n",
       "      <th>?label</th>\n",
       "      <th>?xref</th>\n",
       "      <th>?is_obsolete</th>\n",
       "      <th>?has_equivalentTo</th>\n",
       "    </tr>\n",
       "  </thead>\n",
       "  <tbody>\n",
       "    <tr>\n",
       "      <th>0</th>\n",
       "      <td>MONDO:0000001</td>\n",
       "      <td>disease</td>\n",
       "      <td>ICD9:799.9</td>\n",
       "      <td>False</td>\n",
       "      <td>False</td>\n",
       "    </tr>\n",
       "    <tr>\n",
       "      <th>1</th>\n",
       "      <td>MONDO:0000001</td>\n",
       "      <td>disease</td>\n",
       "      <td>DOID:4</td>\n",
       "      <td>False</td>\n",
       "      <td>True</td>\n",
       "    </tr>\n",
       "    <tr>\n",
       "      <th>2</th>\n",
       "      <td>MONDO:0000001</td>\n",
       "      <td>disease</td>\n",
       "      <td>MEDGEN:4347</td>\n",
       "      <td>False</td>\n",
       "      <td>True</td>\n",
       "    </tr>\n",
       "    <tr>\n",
       "      <th>3</th>\n",
       "      <td>MONDO:0000001</td>\n",
       "      <td>disease</td>\n",
       "      <td>MESH:D004194</td>\n",
       "      <td>False</td>\n",
       "      <td>True</td>\n",
       "    </tr>\n",
       "    <tr>\n",
       "      <th>4</th>\n",
       "      <td>MONDO:0000001</td>\n",
       "      <td>disease</td>\n",
       "      <td>NCIT:C2991</td>\n",
       "      <td>False</td>\n",
       "      <td>True</td>\n",
       "    </tr>\n",
       "  </tbody>\n",
       "</table>\n",
       "</div>"
      ],
      "text/plain": [
       "    ?mondo_curie   ?label         ?xref  ?is_obsolete  ?has_equivalentTo\n",
       "0  MONDO:0000001  disease    ICD9:799.9         False              False\n",
       "1  MONDO:0000001  disease        DOID:4         False               True\n",
       "2  MONDO:0000001  disease   MEDGEN:4347         False               True\n",
       "3  MONDO:0000001  disease  MESH:D004194         False               True\n",
       "4  MONDO:0000001  disease    NCIT:C2991         False               True"
      ]
     },
     "execution_count": 4,
     "metadata": {},
     "output_type": "execute_result"
    }
   ],
   "source": [
    "# Read in file of Mondo xrefs\n",
    "\n",
    "mondo_df = pd.read_csv('reports/mondo_xrefs.tsv', sep='\\t')\n",
    "# The `mondo_xrefs.tsv` file contains one line per mondo term per xref. Only Mondo terms with xrefs \n",
    "# are included in the file.\n",
    "\n",
    "mondo_df.head()"
   ]
  },
  {
   "cell_type": "code",
   "execution_count": 5,
   "id": "bfd9a5ff",
   "metadata": {},
   "outputs": [
    {
     "data": {
      "text/plain": [
       "?mondo_curie          27108\n",
       "?label                27108\n",
       "?xref                131778\n",
       "?is_obsolete              2\n",
       "?has_equivalentTo         2\n",
       "dtype: int64"
      ]
     },
     "execution_count": 5,
     "metadata": {},
     "output_type": "execute_result"
    }
   ],
   "source": [
    "mondo_df.nunique()"
   ]
  },
  {
   "cell_type": "code",
   "execution_count": 6,
   "id": "f014ba8e",
   "metadata": {},
   "outputs": [
    {
     "data": {
      "text/html": [
       "<div>\n",
       "<style scoped>\n",
       "    .dataframe tbody tr th:only-of-type {\n",
       "        vertical-align: middle;\n",
       "    }\n",
       "\n",
       "    .dataframe tbody tr th {\n",
       "        vertical-align: top;\n",
       "    }\n",
       "\n",
       "    .dataframe thead th {\n",
       "        text-align: right;\n",
       "    }\n",
       "</style>\n",
       "<table border=\"1\" class=\"dataframe\">\n",
       "  <thead>\n",
       "    <tr style=\"text-align: right;\">\n",
       "      <th></th>\n",
       "      <th>icd_code</th>\n",
       "      <th>icd_version</th>\n",
       "    </tr>\n",
       "  </thead>\n",
       "  <tbody>\n",
       "    <tr>\n",
       "      <th>0</th>\n",
       "      <td>78</td>\n",
       "      <td>9</td>\n",
       "    </tr>\n",
       "    <tr>\n",
       "      <th>1</th>\n",
       "      <td>G93.2</td>\n",
       "      <td>10</td>\n",
       "    </tr>\n",
       "    <tr>\n",
       "      <th>2</th>\n",
       "      <td>I31.39</td>\n",
       "      <td>10</td>\n",
       "    </tr>\n",
       "    <tr>\n",
       "      <th>3</th>\n",
       "      <td>M08.90</td>\n",
       "      <td>10</td>\n",
       "    </tr>\n",
       "    <tr>\n",
       "      <th>4</th>\n",
       "      <td>F63.81</td>\n",
       "      <td>10</td>\n",
       "    </tr>\n",
       "  </tbody>\n",
       "</table>\n",
       "</div>"
      ],
      "text/plain": [
       "  icd_code  icd_version\n",
       "0       78            9\n",
       "1    G93.2           10\n",
       "2   I31.39           10\n",
       "3   M08.90           10\n",
       "4   F63.81           10"
      ]
     },
     "execution_count": 6,
     "metadata": {},
     "output_type": "execute_result"
    }
   ],
   "source": [
    "# Read in file from other ontology source or data source\n",
    "\n",
    "data_filepath = 'data/CDM_extracted_ICD_codes.csv' # DS-Determined file\n",
    "data_df = pd.read_csv(data_filepath)\n",
    "\n",
    "data_df.head()"
   ]
  },
  {
   "cell_type": "code",
   "execution_count": 7,
   "id": "c3d73afd",
   "metadata": {},
   "outputs": [
    {
     "data": {
      "text/plain": [
       "icd_code       2130\n",
       "icd_version       2\n",
       "dtype: int64"
      ]
     },
     "execution_count": 7,
     "metadata": {},
     "output_type": "execute_result"
    }
   ],
   "source": [
    "data_df.nunique()"
   ]
  },
  {
   "cell_type": "markdown",
   "id": "0eb7a356",
   "metadata": {},
   "source": [
    "## Prepare Data File"
   ]
  },
  {
   "cell_type": "code",
   "execution_count": 8,
   "id": "39f6b14f",
   "metadata": {},
   "outputs": [
    {
     "data": {
      "text/html": [
       "<div>\n",
       "<style scoped>\n",
       "    .dataframe tbody tr th:only-of-type {\n",
       "        vertical-align: middle;\n",
       "    }\n",
       "\n",
       "    .dataframe tbody tr th {\n",
       "        vertical-align: top;\n",
       "    }\n",
       "\n",
       "    .dataframe thead th {\n",
       "        text-align: right;\n",
       "    }\n",
       "</style>\n",
       "<table border=\"1\" class=\"dataframe\">\n",
       "  <thead>\n",
       "    <tr style=\"text-align: right;\">\n",
       "      <th></th>\n",
       "      <th>icd_code</th>\n",
       "      <th>icd_version</th>\n",
       "    </tr>\n",
       "  </thead>\n",
       "  <tbody>\n",
       "    <tr>\n",
       "      <th>0</th>\n",
       "      <td>ICD9:78</td>\n",
       "      <td>9</td>\n",
       "    </tr>\n",
       "    <tr>\n",
       "      <th>6</th>\n",
       "      <td>ICD9:519.11</td>\n",
       "      <td>9</td>\n",
       "    </tr>\n",
       "    <tr>\n",
       "      <th>9</th>\n",
       "      <td>ICD9:228</td>\n",
       "      <td>9</td>\n",
       "    </tr>\n",
       "    <tr>\n",
       "      <th>19</th>\n",
       "      <td>ICD9:52.9</td>\n",
       "      <td>9</td>\n",
       "    </tr>\n",
       "    <tr>\n",
       "      <th>37</th>\n",
       "      <td>ICD9:312.9</td>\n",
       "      <td>9</td>\n",
       "    </tr>\n",
       "  </tbody>\n",
       "</table>\n",
       "</div>"
      ],
      "text/plain": [
       "       icd_code  icd_version\n",
       "0       ICD9:78            9\n",
       "6   ICD9:519.11            9\n",
       "9      ICD9:228            9\n",
       "19    ICD9:52.9            9\n",
       "37   ICD9:312.9            9"
      ]
     },
     "metadata": {},
     "output_type": "display_data"
    },
    {
     "data": {
      "text/html": [
       "<div>\n",
       "<style scoped>\n",
       "    .dataframe tbody tr th:only-of-type {\n",
       "        vertical-align: middle;\n",
       "    }\n",
       "\n",
       "    .dataframe tbody tr th {\n",
       "        vertical-align: top;\n",
       "    }\n",
       "\n",
       "    .dataframe thead th {\n",
       "        text-align: right;\n",
       "    }\n",
       "</style>\n",
       "<table border=\"1\" class=\"dataframe\">\n",
       "  <thead>\n",
       "    <tr style=\"text-align: right;\">\n",
       "      <th></th>\n",
       "      <th>icd_code</th>\n",
       "      <th>icd_version</th>\n",
       "    </tr>\n",
       "  </thead>\n",
       "  <tbody>\n",
       "    <tr>\n",
       "      <th>1</th>\n",
       "      <td>ICD10CM:G93.2</td>\n",
       "      <td>10</td>\n",
       "    </tr>\n",
       "    <tr>\n",
       "      <th>2</th>\n",
       "      <td>ICD10CM:I31.39</td>\n",
       "      <td>10</td>\n",
       "    </tr>\n",
       "    <tr>\n",
       "      <th>3</th>\n",
       "      <td>ICD10CM:M08.90</td>\n",
       "      <td>10</td>\n",
       "    </tr>\n",
       "    <tr>\n",
       "      <th>4</th>\n",
       "      <td>ICD10CM:F63.81</td>\n",
       "      <td>10</td>\n",
       "    </tr>\n",
       "    <tr>\n",
       "      <th>5</th>\n",
       "      <td>ICD10CM:F02.80</td>\n",
       "      <td>10</td>\n",
       "    </tr>\n",
       "  </tbody>\n",
       "</table>\n",
       "</div>"
      ],
      "text/plain": [
       "         icd_code  icd_version\n",
       "1   ICD10CM:G93.2           10\n",
       "2  ICD10CM:I31.39           10\n",
       "3  ICD10CM:M08.90           10\n",
       "4  ICD10CM:F63.81           10\n",
       "5  ICD10CM:F02.80           10"
      ]
     },
     "metadata": {},
     "output_type": "display_data"
    }
   ],
   "source": [
    "# Create two dataframes from `data_df` where each only contains codes from either ICD9 or ICD10\n",
    "# Add prefixes as well, \"ICD9:\" or \"ICD10CM:\"\n",
    "\n",
    "icd9_df = data_df[data_df['icd_version'] == 9]\n",
    "icd9_df = icd9_df.copy()\n",
    "icd9_df['icd_code'] = 'ICD9:'+icd9_df['icd_code'].astype(str)\n",
    "display(icd9_df.head())\n",
    "\n",
    "\n",
    "icd10_df = data_df[data_df['icd_version'] == 10]\n",
    "icd10_df = icd10_df.copy()\n",
    "icd10_df['icd_code'] = 'ICD10CM:'+icd10_df['icd_code'].astype(str)\n",
    "display(icd10_df.head())"
   ]
  },
  {
   "cell_type": "markdown",
   "id": "d3101d6e",
   "metadata": {},
   "source": [
    "## Map terms\n",
    "\n",
    "Find terms in data source, `data_df`, that map to Mondo term(s) based on shared xrefs between the two terms."
   ]
  },
  {
   "cell_type": "code",
   "execution_count": 9,
   "id": "f31ac15a",
   "metadata": {},
   "outputs": [],
   "source": [
    "# Map the terms between each dataframe to get the ICD to Mondo translation\n",
    "\n",
    "# Rename columns in mondo_df\n",
    "mondo_clean_df = mondo_df.rename(columns={\n",
    "    mondo_df.columns[0]: 'mondo_curie',\n",
    "    mondo_df.columns[1]: 'mondo_label',\n",
    "    mondo_df.columns[2]: 'mondo_xref',\n",
    "    mondo_df.columns[3]: 'mondo_is_obsolete',\n",
    "    mondo_df.columns[4]: 'mondo_has_equivalentTo'\n",
    "})\n",
    "\n",
    "# Make sure xref columns have type string\n",
    "mondo_clean_df['mondo_xref'] = mondo_clean_df['mondo_xref'].astype(str)"
   ]
  },
  {
   "cell_type": "code",
   "execution_count": 10,
   "id": "e0819831",
   "metadata": {},
   "outputs": [
    {
     "data": {
      "text/html": [
       "<div>\n",
       "<style scoped>\n",
       "    .dataframe tbody tr th:only-of-type {\n",
       "        vertical-align: middle;\n",
       "    }\n",
       "\n",
       "    .dataframe tbody tr th {\n",
       "        vertical-align: top;\n",
       "    }\n",
       "\n",
       "    .dataframe thead th {\n",
       "        text-align: right;\n",
       "    }\n",
       "</style>\n",
       "<table border=\"1\" class=\"dataframe\">\n",
       "  <thead>\n",
       "    <tr style=\"text-align: right;\">\n",
       "      <th></th>\n",
       "      <th>icd_code</th>\n",
       "      <th>icd_version</th>\n",
       "      <th>mondo_curie</th>\n",
       "      <th>mondo_label</th>\n",
       "      <th>mondo_xref</th>\n",
       "      <th>mondo_is_obsolete</th>\n",
       "      <th>mondo_has_equivalentTo</th>\n",
       "    </tr>\n",
       "  </thead>\n",
       "  <tbody>\n",
       "    <tr>\n",
       "      <th>0</th>\n",
       "      <td>ICD9:78</td>\n",
       "      <td>9</td>\n",
       "      <td>NaN</td>\n",
       "      <td>NaN</td>\n",
       "      <td>NaN</td>\n",
       "      <td>NaN</td>\n",
       "      <td>NaN</td>\n",
       "    </tr>\n",
       "    <tr>\n",
       "      <th>1</th>\n",
       "      <td>ICD9:519.11</td>\n",
       "      <td>9</td>\n",
       "      <td>NaN</td>\n",
       "      <td>NaN</td>\n",
       "      <td>NaN</td>\n",
       "      <td>NaN</td>\n",
       "      <td>NaN</td>\n",
       "    </tr>\n",
       "    <tr>\n",
       "      <th>2</th>\n",
       "      <td>ICD9:228</td>\n",
       "      <td>9</td>\n",
       "      <td>NaN</td>\n",
       "      <td>NaN</td>\n",
       "      <td>NaN</td>\n",
       "      <td>NaN</td>\n",
       "      <td>NaN</td>\n",
       "    </tr>\n",
       "    <tr>\n",
       "      <th>3</th>\n",
       "      <td>ICD9:52.9</td>\n",
       "      <td>9</td>\n",
       "      <td>NaN</td>\n",
       "      <td>NaN</td>\n",
       "      <td>NaN</td>\n",
       "      <td>NaN</td>\n",
       "      <td>NaN</td>\n",
       "    </tr>\n",
       "    <tr>\n",
       "      <th>4</th>\n",
       "      <td>ICD9:312.9</td>\n",
       "      <td>9</td>\n",
       "      <td>MONDO:0005352</td>\n",
       "      <td>conduct disorder</td>\n",
       "      <td>ICD9:312.9</td>\n",
       "      <td>False</td>\n",
       "      <td>True</td>\n",
       "    </tr>\n",
       "  </tbody>\n",
       "</table>\n",
       "</div>"
      ],
      "text/plain": [
       "      icd_code  icd_version    mondo_curie       mondo_label  mondo_xref  \\\n",
       "0      ICD9:78            9            NaN               NaN         NaN   \n",
       "1  ICD9:519.11            9            NaN               NaN         NaN   \n",
       "2     ICD9:228            9            NaN               NaN         NaN   \n",
       "3    ICD9:52.9            9            NaN               NaN         NaN   \n",
       "4   ICD9:312.9            9  MONDO:0005352  conduct disorder  ICD9:312.9   \n",
       "\n",
       "  mondo_is_obsolete mondo_has_equivalentTo  \n",
       "0               NaN                    NaN  \n",
       "1               NaN                    NaN  \n",
       "2               NaN                    NaN  \n",
       "3               NaN                    NaN  \n",
       "4             False                   True  "
      ]
     },
     "metadata": {},
     "output_type": "display_data"
    },
    {
     "data": {
      "text/plain": [
       "icd_code                  429\n",
       "icd_version                 1\n",
       "mondo_curie               261\n",
       "mondo_label               261\n",
       "mondo_xref                130\n",
       "mondo_is_obsolete           2\n",
       "mondo_has_equivalentTo      2\n",
       "dtype: int64"
      ]
     },
     "metadata": {},
     "output_type": "display_data"
    }
   ],
   "source": [
    "# Find ICD9 matches\n",
    "\n",
    "icd9_merged_df = icd9_df.merge(\n",
    "    mondo_clean_df,\n",
    "    left_on='icd_code',\n",
    "    right_on='mondo_xref',\n",
    "    how='left'\n",
    ")\n",
    "\n",
    "display(icd9_merged_df.head())\n",
    "\n",
    "display(icd9_merged_df.nunique())"
   ]
  },
  {
   "cell_type": "code",
   "execution_count": 11,
   "id": "8783f0b1",
   "metadata": {},
   "outputs": [
    {
     "data": {
      "text/html": [
       "<div>\n",
       "<style scoped>\n",
       "    .dataframe tbody tr th:only-of-type {\n",
       "        vertical-align: middle;\n",
       "    }\n",
       "\n",
       "    .dataframe tbody tr th {\n",
       "        vertical-align: top;\n",
       "    }\n",
       "\n",
       "    .dataframe thead th {\n",
       "        text-align: right;\n",
       "    }\n",
       "</style>\n",
       "<table border=\"1\" class=\"dataframe\">\n",
       "  <thead>\n",
       "    <tr style=\"text-align: right;\">\n",
       "      <th></th>\n",
       "      <th>icd_code</th>\n",
       "      <th>icd_version</th>\n",
       "      <th>mondo_curie</th>\n",
       "      <th>mondo_label</th>\n",
       "      <th>mondo_xref</th>\n",
       "      <th>mondo_is_obsolete</th>\n",
       "      <th>mondo_has_equivalentTo</th>\n",
       "    </tr>\n",
       "  </thead>\n",
       "  <tbody>\n",
       "    <tr>\n",
       "      <th>0</th>\n",
       "      <td>ICD10CM:G93.2</td>\n",
       "      <td>10</td>\n",
       "      <td>NaN</td>\n",
       "      <td>NaN</td>\n",
       "      <td>NaN</td>\n",
       "      <td>NaN</td>\n",
       "      <td>NaN</td>\n",
       "    </tr>\n",
       "    <tr>\n",
       "      <th>1</th>\n",
       "      <td>ICD10CM:I31.39</td>\n",
       "      <td>10</td>\n",
       "      <td>NaN</td>\n",
       "      <td>NaN</td>\n",
       "      <td>NaN</td>\n",
       "      <td>NaN</td>\n",
       "      <td>NaN</td>\n",
       "    </tr>\n",
       "    <tr>\n",
       "      <th>2</th>\n",
       "      <td>ICD10CM:M08.90</td>\n",
       "      <td>10</td>\n",
       "      <td>NaN</td>\n",
       "      <td>NaN</td>\n",
       "      <td>NaN</td>\n",
       "      <td>NaN</td>\n",
       "      <td>NaN</td>\n",
       "    </tr>\n",
       "    <tr>\n",
       "      <th>3</th>\n",
       "      <td>ICD10CM:F63.81</td>\n",
       "      <td>10</td>\n",
       "      <td>MONDO:0001521</td>\n",
       "      <td>intermittent explosive disorder</td>\n",
       "      <td>ICD10CM:F63.81</td>\n",
       "      <td>False</td>\n",
       "      <td>True</td>\n",
       "    </tr>\n",
       "    <tr>\n",
       "      <th>4</th>\n",
       "      <td>ICD10CM:F02.80</td>\n",
       "      <td>10</td>\n",
       "      <td>NaN</td>\n",
       "      <td>NaN</td>\n",
       "      <td>NaN</td>\n",
       "      <td>NaN</td>\n",
       "      <td>NaN</td>\n",
       "    </tr>\n",
       "  </tbody>\n",
       "</table>\n",
       "</div>"
      ],
      "text/plain": [
       "         icd_code  icd_version    mondo_curie  \\\n",
       "0   ICD10CM:G93.2           10            NaN   \n",
       "1  ICD10CM:I31.39           10            NaN   \n",
       "2  ICD10CM:M08.90           10            NaN   \n",
       "3  ICD10CM:F63.81           10  MONDO:0001521   \n",
       "4  ICD10CM:F02.80           10            NaN   \n",
       "\n",
       "                       mondo_label      mondo_xref mondo_is_obsolete  \\\n",
       "0                              NaN             NaN               NaN   \n",
       "1                              NaN             NaN               NaN   \n",
       "2                              NaN             NaN               NaN   \n",
       "3  intermittent explosive disorder  ICD10CM:F63.81             False   \n",
       "4                              NaN             NaN               NaN   \n",
       "\n",
       "  mondo_has_equivalentTo  \n",
       "0                    NaN  \n",
       "1                    NaN  \n",
       "2                    NaN  \n",
       "3                   True  \n",
       "4                    NaN  "
      ]
     },
     "metadata": {},
     "output_type": "display_data"
    },
    {
     "data": {
      "text/plain": [
       "icd_code                  1701\n",
       "icd_version                  1\n",
       "mondo_curie                114\n",
       "mondo_label                114\n",
       "mondo_xref                  64\n",
       "mondo_is_obsolete            2\n",
       "mondo_has_equivalentTo       2\n",
       "dtype: int64"
      ]
     },
     "metadata": {},
     "output_type": "display_data"
    }
   ],
   "source": [
    "# Find ICD10 matches\n",
    "\n",
    "icd10_merged_df = icd10_df.merge(\n",
    "    mondo_clean_df,\n",
    "    left_on='icd_code',\n",
    "    right_on='mondo_xref',\n",
    "    how='left'\n",
    ")\n",
    "\n",
    "display(icd10_merged_df.head())\n",
    "\n",
    "display(icd10_merged_df.nunique())"
   ]
  },
  {
   "cell_type": "code",
   "execution_count": 12,
   "id": "352522c2",
   "metadata": {},
   "outputs": [],
   "source": [
    "# Save to file of the ICD9 mapping results\n",
    "\n",
    "icd9_merged_df.to_csv('data/ds-determined-icd9_icd-mondo_mappings.tsv', sep='\\t', index=False)"
   ]
  },
  {
   "cell_type": "code",
   "execution_count": 13,
   "id": "429ea63d",
   "metadata": {},
   "outputs": [],
   "source": [
    "# Save to file of the ICD10 mapping results\n",
    "\n",
    "icd10_merged_df.to_csv('data/ds-determined-icd10_icd-mondo_mappings.tsv', sep='\\t', index=False)"
   ]
  },
  {
   "cell_type": "code",
   "execution_count": null,
   "id": "87840ce4",
   "metadata": {},
   "outputs": [],
   "source": []
  }
 ],
 "metadata": {
  "kernelspec": {
   "display_name": "Python 3 (ipykernel)",
   "language": "python",
   "name": "python3"
  },
  "language_info": {
   "codemirror_mode": {
    "name": "ipython",
    "version": 3
   },
   "file_extension": ".py",
   "mimetype": "text/x-python",
   "name": "python",
   "nbconvert_exporter": "python",
   "pygments_lexer": "ipython3",
   "version": "3.11.7"
  }
 },
 "nbformat": 4,
 "nbformat_minor": 5
}
